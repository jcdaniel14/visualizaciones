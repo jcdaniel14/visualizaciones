{
 "cells": [
  {
   "cell_type": "code",
   "execution_count": 1,
   "metadata": {},
   "outputs": [],
   "source": [
    "import pandas as pd"
   ]
  },
  {
   "cell_type": "code",
   "execution_count": 2,
   "metadata": {},
   "outputs": [],
   "source": [
    "def get_ciudad(row):\n",
    "    return row.replace(\"router\",\"\").capitalize()"
   ]
  },
  {
   "cell_type": "code",
   "execution_count": 3,
   "metadata": {},
   "outputs": [],
   "source": [
    "def is_backup(row):\n",
    "    if row == \"Vlan200\":\n",
    "        return \"B\"\n",
    "    return \"P\""
   ]
  },
  {
   "cell_type": "code",
   "execution_count": 4,
   "metadata": {},
   "outputs": [],
   "source": [
    "def clean_data(filename):\n",
    "    df = pd.read_csv(f'datasets/{filename}')\n",
    "    \n",
    "    # - Last Summary\n",
    "    df = df.iloc[:-3]\n",
    "    \n",
    "    # - Acomodar fecha\n",
    "    df[\"Fecha\"] = df['Fecha'].str.split(\" - \",expand=True)[0]\n",
    "    df[\"Fecha\"] = pd.to_datetime(df[\"Fecha\"])\n",
    "\n",
    "    # - Pivot de columnas\n",
    "    df = pd.melt(df, id_vars=['Fecha','Total'])\n",
    "\n",
    "    # - Cambio de columnas\n",
    "    df.columns = [\"Fecha\",\"Total\",\"Token\",\"Traffic\"]\n",
    "    df = df[[\"Fecha\",\"Token\",\"Traffic\"]]\n",
    "\n",
    "    # - Extraer Ciudad y Vlan\n",
    "    tokens = df[\"Token\"].str.split(\"(\",expand=True)\n",
    "    tokens2 = tokens[1].str.split(\")\",expand=True)\n",
    "    df.loc[:,\"Vlan\"] = tokens[0]\n",
    "    df.loc[:,\"Ciudad\"] = tokens2[0]\n",
    "    df[\"Tipo_Enlace\"] = df[\"Vlan\"].apply(is_backup)\n",
    "    df['Ciudad'] = df['Ciudad'].apply(get_ciudad)\n",
    "    df = df.loc[:,[\"Fecha\",\"Ciudad\",\"Tipo_Enlace\",\"Traffic\"]]\n",
    "\n",
    "    # - Cambiar nulls - por 0\n",
    "    df[\"Traffic\"] = df[\"Traffic\"].astype('str').str.replace(\"-\",\"0\")\n",
    "    df[\"Traffic\"] = df[\"Traffic\"].astype(float)\n",
    "\n",
    "    # - Importante, agrupar trafico de principales y backups en uno solo\n",
    "    df = df.groupby(['Fecha','Ciudad',\"Tipo_Enlace\"]).sum().reset_index()\n",
    "\n",
    "    df.to_csv(f'clean/{filename}')"
   ]
  },
  {
   "cell_type": "code",
   "execution_count": 5,
   "metadata": {},
   "outputs": [],
   "source": [
    "lista = [\n",
    "    \"reporte_sep_2020.csv\",\n",
    "    \"reporte_ago_2020.csv\",\n",
    "    \"reporte_jul_2020.csv\",\n",
    "    \"reporte_jun_2020.csv\",\n",
    "    \"reporte_may_2020.csv\",\n",
    "    \"reporte_abr_2020.csv\",\n",
    "    \"reporte_mar_2020.csv\",\n",
    "    \"reporte_feb_2020.csv\",\n",
    "    \"reporte_ene_2020.csv\",\n",
    "    \"reporte_dic_2019.csv\",\n",
    "    \"reporte_nov_2019.csv\",\n",
    "    \"reporte_oct_2019.csv\",\n",
    "    \"reporte_sep_2019.csv\",\n",
    "    \"reporte_ago_2019.csv\",\n",
    "    \"reporte_jul_2019.csv\",\n",
    "    \"reporte_jun_2019.csv\",\n",
    "    \"reporte_may_2019.csv\",\n",
    "    \"reporte_abr_2019.csv\",\n",
    "    ]"
   ]
  },
  {
   "cell_type": "code",
   "execution_count": 6,
   "metadata": {},
   "outputs": [],
   "source": [
    "# Limpia la data y crea un archivo por mes\n",
    "for filename in lista:\n",
    "    clean_data(filename)"
   ]
  },
  {
   "cell_type": "code",
   "execution_count": 7,
   "metadata": {},
   "outputs": [],
   "source": [
    "# Consolida en un solo archivo\n",
    "result = pd.read_csv(f'clean/{lista.pop(0)}',index_col=0)\n",
    "for l in lista:\n",
    "    df = pd.read_csv(f'clean/{l}',index_col=0)\n",
    "    result = pd.concat([result,df])\n",
    "result.to_csv('clean/reporte_consolidado.csv')"
   ]
  },
  {
   "cell_type": "code",
   "execution_count": null,
   "metadata": {},
   "outputs": [],
   "source": []
  }
 ],
 "metadata": {
  "kernelspec": {
   "display_name": "Python 3",
   "language": "python",
   "name": "python3"
  },
  "language_info": {
   "codemirror_mode": {
    "name": "ipython",
    "version": 3
   },
   "file_extension": ".py",
   "mimetype": "text/x-python",
   "name": "python",
   "nbconvert_exporter": "python",
   "pygments_lexer": "ipython3",
   "version": "3.8.3"
  }
 },
 "nbformat": 4,
 "nbformat_minor": 4
}
